{
 "cells": [
  {
   "cell_type": "markdown",
   "metadata": {},
   "source": [
    "1.Write a line of code that will print your name."
   ]
  },
  {
   "cell_type": "code",
   "execution_count": 39,
   "metadata": {
    "scrolled": true
   },
   "outputs": [
    {
     "name": "stdout",
     "output_type": "stream",
     "text": [
      "Spam Eggsen\n"
     ]
    }
   ],
   "source": [
    "print(\"Spam Eggsen\")"
   ]
  },
  {
   "cell_type": "markdown",
   "metadata": {},
   "source": [
    "2.How do you enter a comment in a program? "
   ]
  },
  {
   "cell_type": "code",
   "execution_count": null,
   "metadata": {},
   "outputs": [],
   "source": [
    "# This is a comment on one line\n",
    "# Now we have 2 lines of comments"
   ]
  },
  {
   "cell_type": "code",
   "execution_count": 40,
   "metadata": {
    "scrolled": true
   },
   "outputs": [
    {
     "name": "stdout",
     "output_type": "stream",
     "text": [
      "Spam Eggsen\n"
     ]
    }
   ],
   "source": [
    "print(\"Spam Eggsen\") # This comment is on same line as the code"
   ]
  },
  {
   "cell_type": "code",
   "execution_count": null,
   "metadata": {},
   "outputs": [],
   "source": [
    "\"\"\"\n",
    "This is how we can\n",
    "make many\n",
    "lines of comments\n",
    "easily!\n",
    "\"\"\""
   ]
  },
  {
   "cell_type": "markdown",
   "metadata": {},
   "source": [
    "3.What do the following lines of code output? ALSO: Why do they give a different answer? "
   ]
  },
  {
   "cell_type": "code",
   "execution_count": 2,
   "metadata": {},
   "outputs": [
    {
     "name": "stdout",
     "output_type": "stream",
     "text": [
      "0.6666666666666666\n"
     ]
    }
   ],
   "source": [
    "print(2 / 3) # This is division and returns a float"
   ]
  },
  {
   "cell_type": "code",
   "execution_count": 3,
   "metadata": {},
   "outputs": [
    {
     "name": "stdout",
     "output_type": "stream",
     "text": [
      "0\n"
     ]
    }
   ],
   "source": [
    "print(2 // 3) # This modulus and since 2 divided by 3 is less than 1 it will return 0.\n",
    "# It will return an int rounded down."
   ]
  },
  {
   "cell_type": "markdown",
   "metadata": {},
   "source": [
    "4.Write a line of code that creates a variable called pi and setsit to an appropriate value."
   ]
  },
  {
   "cell_type": "code",
   "execution_count": 4,
   "metadata": {},
   "outputs": [
    {
     "name": "stdout",
     "output_type": "stream",
     "text": [
      "3.142857142857143\n"
     ]
    }
   ],
   "source": [
    "pi = 22/7\n",
    "print(pi)"
   ]
  },
  {
   "cell_type": "markdown",
   "metadata": {},
   "source": [
    "5.Why does this code not work? \n",
    "A = 22\n",
    "print(a)\n",
    "\n",
    "Answer: Because variable a has not been declared. A and a are not the same variable. Python is case sensitive."
   ]
  },
  {
   "cell_type": "markdown",
   "metadata": {},
   "source": [
    "6.All of the variable names below can be used. But which ONE of these isthe better variable name to use? \n",
    "\n",
    "a\n",
    "A\n",
    "Area\n",
    "AREA\n",
    "area\n",
    "area_of_rectangle\n",
    "Area_Of_Rectangle\n",
    " \n",
    "Answer: area_of_rectangle because it follow the Python convention with lower cases and underscore in between words and it describes the variable better than a or area."
   ]
  },
  {
   "cell_type": "markdown",
   "metadata": {},
   "source": [
    "7.Which of these variables names are not allowed in Python? (More than one might be wrong. Also, this question is not asking about improper names, just names that aren't allowed. Test them if you aren't sure.) \n",
    "\n",
    "apple\n",
    "Apple\n",
    "APPLE\n",
    "Apple2\n",
    "1Apple # No number as starting a variable name\n",
    "account number\n",
    "account_number\n",
    "account.number #No dots - its calling a function\n",
    "accountNumber\n",
    "account# # No comment sign at the end of the name - it will not be defined\n",
    "pi\n",
    "PI\n",
    "fred\n",
    "Fred\n",
    "GreatBigVariable\n",
    "greatBigVariable\n",
    "great_big_variable\n",
    "great.big.variable #No dots - its calling a function\n",
    "2x # No number as starting a variable name\n",
    "x2x\n",
    "total% # No operator in the name - as only variable name can be on the left side of the expression\n",
    "#left # No comment sign at the beginning of the name - nothing will be happen\n",
    " \n"
   ]
  },
  {
   "cell_type": "markdown",
   "metadata": {},
   "source": [
    "8.Why does this code not work? \n",
    "\n",
    "print(a)\n",
    "a = 45\n",
    " \n",
    "Answer: a has to be defined before it can be printed. Reverse the 2 lines and it will work."
   ]
  },
  {
   "cell_type": "markdown",
   "metadata": {},
   "source": [
    "9.Explain the mistake in this code: \n",
    "\n",
    "pi = float(3.14)\n",
    " \n",
    "Answer: The float function is not necessary - 3.14 is already a float. It is enough to write:\n",
    "pi = 3.14"
   ]
  },
  {
   "cell_type": "markdown",
   "metadata": {},
   "source": [
    "10.This program runs, but the code still could be better. Explain what is wrong with the code. \n",
    "\n",
    "radius = float(input(\"Radius:\"))\n",
    "x = 3.14\n",
    "pi = x\n",
    "area = pi  * radius ** 2\n",
    "print(area)\n",
    " \n",
    "Answer:\n",
    "The code can be one line shorter with \n",
    "pi = 3.14\n",
    "Also it would help with more comments to understand the code"
   ]
  },
  {
   "cell_type": "markdown",
   "metadata": {},
   "source": [
    "11.Explain the mistake in the following code: \n",
    "\n",
    "x = 4\n",
    "y = 5\n",
    "a = ((x) * (y))\n",
    "print(a)\n",
    " \n",
    "Answer: The paranthesises are not necessary, it is enough to write:\n",
    "a = x * y"
   ]
  },
  {
   "cell_type": "markdown",
   "metadata": {},
   "source": [
    "12.Explain the mistake in the following code: \n",
    "\n",
    "x = 4\n",
    "y = 5\n",
    "a = 3(x + y)\n",
    "print(a)\n",
    " \n",
    "Answer: Python cant be written like math with 3x but has to be written as 3 * x. The correct code is:\n",
    "a = 3 * (x + y)"
   ]
  },
  {
   "cell_type": "markdown",
   "metadata": {},
   "source": [
    "13.Explain the mistake in the following code: \n",
    "\n",
    "radius = input(float(\"Enter the radius:\"))"
   ]
  },
  {
   "cell_type": "code",
   "execution_count": 23,
   "metadata": {},
   "outputs": [
    {
     "name": "stdout",
     "output_type": "stream",
     "text": [
      "Enter the radius:20\n"
     ]
    }
   ],
   "source": [
    "# Answer to 13: the float and input functions has to change places.\n",
    "radius = float(input(\"Enter the radius:\"))"
   ]
  },
  {
   "cell_type": "markdown",
   "metadata": {},
   "source": [
    "14.Do all these print the same value? Which one is better to use and why? \n",
    "\n",
    "print(2/3+4)\n",
    "print(2 / 3 + 4)\n",
    "print(   2 /    3+    4  )\n",
    " \n",
    "Answer: Yes the number of spaces or lack of space does not affect the evaluation. It is best to use the second line, because it has the highest readability."
   ]
  },
  {
   "cell_type": "markdown",
   "metadata": {},
   "source": [
    "15.What is a constant? \n",
    "\n",
    "Answer: A constant is a variable with a value that will never change - and could be written like this:\n",
    "SPEED_OF_LIGHT = 300000 # kilometer/second"
   ]
  },
  {
   "cell_type": "markdown",
   "metadata": {},
   "source": [
    "16.How are variable names for constants different than other variable names? \n",
    "\n",
    "Answer: They are written in all upper case letters."
   ]
  },
  {
   "cell_type": "markdown",
   "metadata": {},
   "source": [
    "17.What is a single quote and what is a double quote? Give and label an example of both. "
   ]
  },
  {
   "cell_type": "code",
   "execution_count": 41,
   "metadata": {},
   "outputs": [
    {
     "name": "stdout",
     "output_type": "stream",
     "text": [
      "His name was 'Spam'\n"
     ]
    }
   ],
   "source": [
    "# Answer to 17:\n",
    "# Example of single quote:\n",
    "name = 'Spam'\n",
    "# Example of double quote:\n",
    "name = \"Spam\"\n",
    "# Both can be used interchangeably - and they can be used to print each other:\n",
    "string = \"His name was 'Spam'\"\n",
    "print(string)"
   ]
  },
  {
   "cell_type": "markdown",
   "metadata": {},
   "source": [
    "18.Write a Python program that will use escape codes to print a double-quote and a new line using the Window's standard. (Note: I'm asking for the Window's standard here. Look it up out of Chapter 1.)"
   ]
  },
  {
   "cell_type": "code",
   "execution_count": 42,
   "metadata": {},
   "outputs": [
    {
     "name": "stdout",
     "output_type": "stream",
     "text": [
      "His first name was \"Spam\" and \n",
      " his last name was \"Eggsen\"\n"
     ]
    }
   ],
   "source": [
    "# Answer to 18:\n",
    "print(\"His first name was \\\"Spam\\\" and \\n his last name was \\\"Eggsen\\\"\")"
   ]
  },
  {
   "cell_type": "markdown",
   "metadata": {},
   "source": [
    "19.Can a Python program print text to the screen using single quotes instead of double quotes? "
   ]
  },
  {
   "cell_type": "code",
   "execution_count": 27,
   "metadata": {},
   "outputs": [
    {
     "name": "stdout",
     "output_type": "stream",
     "text": [
      "Printing using single quotes\n"
     ]
    }
   ],
   "source": [
    "# Answer to 19: Yes\n",
    "print('Printing using single quotes')"
   ]
  },
  {
   "cell_type": "markdown",
   "metadata": {},
   "source": [
    "20.Why does this code not calculate the average? \n",
    "\n",
    "print(3 + 4 + 5 / 3)\n",
    "\n",
    "Answer: Python will do division before addition - so it will evaluate 5 / 3 and then add 3 + 4 + ( 5 / 3)"
   ]
  },
  {
   "cell_type": "code",
   "execution_count": 28,
   "metadata": {},
   "outputs": [
    {
     "name": "stdout",
     "output_type": "stream",
     "text": [
      "4.0\n"
     ]
    }
   ],
   "source": [
    "# Answer to 20: The correct code is:\n",
    "print((3 + 4 + 5) / 3)"
   ]
  },
  {
   "cell_type": "markdown",
   "metadata": {},
   "source": [
    "21.What is an ``operator'' in Python? \n",
    "\n",
    "Answer: An operator is a symbol like + or - or * or / or // (floor division) or % (modulus) or ** (power).\n",
    "Operators are special symbols in Python that carry out arithmetic or logical computation. The value that the operator operates on is called the operand"
   ]
  },
  {
   "cell_type": "markdown",
   "metadata": {},
   "source": [
    "22.What does the following program print out? \n",
    "\n",
    "x = 3\n",
    "x + 1\n",
    "print(x)\n",
    "\n",
    "Answer: 3, because there is no assignment operator (fx =) in line 2. The + 1 is not stored in x."
   ]
  },
  {
   "cell_type": "code",
   "execution_count": 29,
   "metadata": {},
   "outputs": [
    {
     "name": "stdout",
     "output_type": "stream",
     "text": [
      "3\n"
     ]
    }
   ],
   "source": [
    "x = 3\n",
    "x + 1\n",
    "print(x)"
   ]
  },
  {
   "cell_type": "markdown",
   "metadata": {},
   "source": [
    "23.Correct the following code: \n",
    "\n",
    "user_name = input(\"Enter your name: )\""
   ]
  },
  {
   "cell_type": "code",
   "execution_count": 43,
   "metadata": {},
   "outputs": [
    {
     "name": "stdout",
     "output_type": "stream",
     "text": [
      "Enter your name: Spam\n"
     ]
    }
   ],
   "source": [
    "# Answer to 23: double quote and end paranthesis change places:\n",
    "user_name = input(\"Enter your name: \")"
   ]
  },
  {
   "cell_type": "markdown",
   "metadata": {},
   "source": [
    "24.Correct the following code: \n",
    "\n",
    "value = int(input(print(\"Enter your age\")))"
   ]
  },
  {
   "cell_type": "code",
   "execution_count": 44,
   "metadata": {},
   "outputs": [
    {
     "name": "stdout",
     "output_type": "stream",
     "text": [
      "Enter your age 100\n"
     ]
    }
   ],
   "source": [
    "# Answer to 24: Remove the print function - else variable value will not be assigned a value\n",
    "\n",
    "value = int(input(\"Enter your age \"))"
   ]
  },
  {
   "cell_type": "code",
   "execution_count": null,
   "metadata": {},
   "outputs": [],
   "source": []
  }
 ],
 "metadata": {
  "kernelspec": {
   "display_name": "Python 3",
   "language": "python",
   "name": "python3"
  },
  "language_info": {
   "codemirror_mode": {
    "name": "ipython",
    "version": 3
   },
   "file_extension": ".py",
   "mimetype": "text/x-python",
   "name": "python",
   "nbconvert_exporter": "python",
   "pygments_lexer": "ipython3",
   "version": "3.7.0"
  }
 },
 "nbformat": 4,
 "nbformat_minor": 2
}
