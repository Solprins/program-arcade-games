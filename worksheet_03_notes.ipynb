{
 "cells": [
  {
   "cell_type": "markdown",
   "metadata": {},
   "source": []
  },
  {
   "cell_type": "code",
   "execution_count": 4,
   "metadata": {},
   "outputs": [
    {
     "ename": "SyntaxError",
     "evalue": "invalid syntax (<ipython-input-4-abaa827607c1>, line 2)",
     "output_type": "error",
     "traceback": [
      "\u001b[1;36m  File \u001b[1;32m\"<ipython-input-4-abaa827607c1>\"\u001b[1;36m, line \u001b[1;32m2\u001b[0m\n\u001b[1;33m    if temperature > 90:\u001b[0m\n\u001b[1;37m                       ^\u001b[0m\n\u001b[1;31mSyntaxError\u001b[0m\u001b[1;31m:\u001b[0m invalid syntax\n"
     ]
    }
   ],
   "source": [
    "temperature = float(input(\"Temperature: \") # Missing and end )\n",
    "if temperature > 90:\n",
    "    print(\"It is hot outside.\")\n",
    "else:\n",
    "    print(\"It is not hot out.\")"
   ]
  },
  {
   "cell_type": "code",
   "execution_count": 3,
   "metadata": {},
   "outputs": [
    {
     "name": "stdout",
     "output_type": "stream",
     "text": [
      "Temperature: 89\n",
      "It is not hot out.\n"
     ]
    }
   ],
   "source": [
    "temperature = float(input(\"Temperature: \")) # Now runs correctly\n",
    "if temperature > 90:\n",
    "    print(\"It is hot outside.\")\n",
    "else:\n",
    "    print(\"It is not hot out.\")"
   ]
  },
  {
   "cell_type": "code",
   "execution_count": null,
   "metadata": {},
   "outputs": [],
   "source": [
    "number = float(input(\"Please input a positive number, a negative number or a zero: \"))\n",
    "if number > 0 :\n",
    "    print(\"Your number is positive!\")\n",
    "elif number == 0 : \n",
    "    print(\"Your number is a zero!\")\n",
    "else :\n",
    "    print(\"Your number is negative!\")\n"
   ]
  },
  {
   "cell_type": "code",
   "execution_count": 5,
   "metadata": {},
   "outputs": [
    {
     "name": "stdout",
     "output_type": "stream",
     "text": [
      "Please enter a random number! 0\n",
      "''Success''\n"
     ]
    }
   ],
   "source": [
    "\n",
    "# Input\n",
    "number = float(input(\"Please enter a random number! \"))\n",
    "# Calculate\n",
    "if number <= 10 and number >= -10:\n",
    "# Output\n",
    "    print(\"''Success''\")"
   ]
  },
  {
   "cell_type": "code",
   "execution_count": 7,
   "metadata": {},
   "outputs": [
    {
     "name": "stdout",
     "output_type": "stream",
     "text": [
      "A cherry is a: fruit\n",
      "A. Dessert topping\n",
      "B. Desert topping\n",
      "Incorrect.\n"
     ]
    }
   ],
   "source": [
    "user_input = input(\"A cherry is a: \")\n",
    "print(\"A. Dessert topping\")\n",
    "print(\"B. Desert topping\")\n",
    "if user_input.upper() == \"A\":\n",
    "    print(\"Correct!\")\n",
    "else:\n",
    "    print(\"Incorrect.\")"
   ]
  },
  {
   "cell_type": "code",
   "execution_count": 10,
   "metadata": {},
   "outputs": [
    {
     "name": "stdout",
     "output_type": "stream",
     "text": [
      "A cherry is a: \n",
      "A. Dessert topping\n",
      "B. Desert topping\n",
      "a\n",
      "Correct!\n"
     ]
    }
   ],
   "source": [
    "print(\"A cherry is a: \")\n",
    "print(\"A. Dessert topping\")\n",
    "print(\"B. Desert topping\")\n",
    "user_input = input()\n",
    "if user_input.upper() == \"A\":\n",
    "    print(\"Correct!\")\n",
    "else:\n",
    "    print(\"Incorrect.\")"
   ]
  },
  {
   "cell_type": "code",
   "execution_count": 12,
   "metadata": {},
   "outputs": [
    {
     "name": "stdout",
     "output_type": "stream",
     "text": [
      "x is positive.\n"
     ]
    }
   ],
   "source": [
    "x = 4\n",
    "if x > 0:\n",
    "    print(\"x is positive.\")\n",
    "else:\n",
    "    print(\"x is not positive.\")"
   ]
  },
  {
   "cell_type": "code",
   "execution_count": 15,
   "metadata": {},
   "outputs": [
    {
     "name": "stdout",
     "output_type": "stream",
     "text": [
      "Enter a number: 2\n"
     ]
    }
   ],
   "source": [
    "x = float(input(\"Enter a number: \"))\n",
    "if x == 3:\n",
    "    print(\"You entered 3\")\n"
   ]
  },
  {
   "cell_type": "code",
   "execution_count": 17,
   "metadata": {},
   "outputs": [
    {
     "name": "stdout",
     "output_type": "stream",
     "text": [
      "What is the name of Dr. Bunsen Honeydew's assistant? Beaker\n",
      "Correct!\n"
     ]
    }
   ],
   "source": [
    "answer = input(\"What is the name of Dr. Bunsen Honeydew's assistant? \")\n",
    "if answer == \"Beaker\":\n",
    "    print(\"Correct!\")\n",
    "else:\n",
    "    print(\"Incorrect! It is Beaker.\")"
   ]
  },
  {
   "cell_type": "code",
   "execution_count": 20,
   "metadata": {},
   "outputs": [
    {
     "name": "stdout",
     "output_type": "stream",
     "text": [
      "How are you today?Happy\n",
      "That is good to hear!\n"
     ]
    }
   ],
   "source": [
    "x = input(\"How are you today?\")\n",
    "if x == \"Happy\" or x == \"Glad\":\n",
    "    print(\"That is good to hear!\")\n"
   ]
  },
  {
   "cell_type": "code",
   "execution_count": 21,
   "metadata": {},
   "outputs": [
    {
     "name": "stdout",
     "output_type": "stream",
     "text": [
      "x= 5\n",
      "y= False\n",
      "z= True\n",
      "Buzz\n"
     ]
    }
   ],
   "source": [
    "x = 5\n",
    "y = x == 6\n",
    "z = x == 5\n",
    "print(\"x=\", x)\n",
    "print(\"y=\", y)\n",
    "print(\"z=\", z)\n",
    "if y:\n",
    "    print(\"Fizz\")\n",
    "if z:\n",
    "    print(\"Buzz\")"
   ]
  },
  {
   "cell_type": "code",
   "execution_count": 22,
   "metadata": {},
   "outputs": [
    {
     "name": "stdout",
     "output_type": "stream",
     "text": [
      "True\n",
      "False\n",
      "True\n",
      "False\n",
      "False\n",
      "True\n",
      "False\n",
      "False\n",
      "True\n",
      "False\n",
      "True\n"
     ]
    }
   ],
   "source": [
    "x = 5\n",
    "y = 10\n",
    "z = 10\n",
    "print(x < y)\n",
    "print(y < z)\n",
    "print(x == 5)\n",
    "print(not x == 5)\n",
    "print(x != 5)\n",
    "print(not x != 5)\n",
    "print(x == \"5\")\n",
    "print(5 == x + 0.00000000001)\n",
    "print(x == 5 and y == 10)\n",
    "print(x == 5 and y == 5)\n",
    "print(x == 5 or y == 5)"
   ]
  },
  {
   "cell_type": "code",
   "execution_count": 23,
   "metadata": {},
   "outputs": [
    {
     "name": "stdout",
     "output_type": "stream",
     "text": [
      "True\n",
      "False\n",
      "True\n",
      "True\n",
      "True\n",
      "False\n",
      "False\n",
      "True\n"
     ]
    },
    {
     "ename": "TypeError",
     "evalue": "'<' not supported between instances of 'int' and 'str'",
     "output_type": "error",
     "traceback": [
      "\u001b[1;31m---------------------------------------------------------------------------\u001b[0m",
      "\u001b[1;31mTypeError\u001b[0m                                 Traceback (most recent call last)",
      "\u001b[1;32m<ipython-input-23-ce2b8ea3a761>\u001b[0m in \u001b[0;36m<module>\u001b[1;34m()\u001b[0m\n\u001b[0;32m      7\u001b[0m \u001b[0mprint\u001b[0m\u001b[1;33m(\u001b[0m \u001b[1;33m(\u001b[0m\u001b[1;36m2\u001b[0m \u001b[1;33m==\u001b[0m \u001b[1;36m2\u001b[0m\u001b[1;33m)\u001b[0m \u001b[1;33m==\u001b[0m \u001b[1;34m\"True\"\u001b[0m \u001b[1;33m)\u001b[0m\u001b[1;33m\u001b[0m\u001b[0m\n\u001b[0;32m      8\u001b[0m \u001b[0mprint\u001b[0m\u001b[1;33m(\u001b[0m \u001b[1;33m(\u001b[0m\u001b[1;36m2\u001b[0m \u001b[1;33m==\u001b[0m \u001b[1;36m2\u001b[0m\u001b[1;33m)\u001b[0m \u001b[1;33m==\u001b[0m \u001b[1;32mTrue\u001b[0m \u001b[1;33m)\u001b[0m\u001b[1;33m\u001b[0m\u001b[0m\n\u001b[1;32m----> 9\u001b[1;33m \u001b[0mprint\u001b[0m\u001b[1;33m(\u001b[0m\u001b[1;36m3\u001b[0m \u001b[1;33m<\u001b[0m \u001b[1;34m\"3\"\u001b[0m\u001b[1;33m)\u001b[0m\u001b[1;33m\u001b[0m\u001b[0m\n\u001b[0m",
      "\u001b[1;31mTypeError\u001b[0m: '<' not supported between instances of 'int' and 'str'"
     ]
    }
   ],
   "source": [
    "print(\"3\" == \"3\")\n",
    "print(\" 3\" == \"3\")\n",
    "print(3 < 4)\n",
    "print(3 < 10)\n",
    "print(\"3\" < \"4\")\n",
    "print(\"3\" < \"10\")\n",
    "print( (2 == 2) == \"True\" )\n",
    "print( (2 == 2) == True )\n",
    "print(3 < \"3\")"
   ]
  },
  {
   "cell_type": "code",
   "execution_count": 30,
   "metadata": {},
   "outputs": [
    {
     "ename": "SyntaxError",
     "evalue": "invalid syntax (<ipython-input-30-a9aaa9085707>, line 14)",
     "output_type": "error",
     "traceback": [
      "\u001b[1;36m  File \u001b[1;32m\"<ipython-input-30-a9aaa9085707>\"\u001b[1;36m, line \u001b[1;32m14\u001b[0m\n\u001b[1;33m    else user_input == \"C\":\u001b[0m\n\u001b[1;37m                  ^\u001b[0m\n\u001b[1;31mSyntaxError\u001b[0m\u001b[1;31m:\u001b[0m invalid syntax\n"
     ]
    }
   ],
   "source": [
    "\n",
    "print(\"Welcome to Oregon Trail!\")\n",
    " \n",
    "print(\"A. Banker\")\n",
    "print(\"B. Carpenter\")\n",
    "print(\"C. Farmer\")\n",
    " \n",
    "user_input = input(\"What is your occupation? \")\n",
    "\n",
    "if user_input == \"A\":\n",
    "    money = 100\n",
    "elif user_input == \"B\":\n",
    "    money = 70\n",
    "else user_input == \"C\":\n",
    "    money = 50\n",
    " \n",
    "print(\"Great! you will start the game with\", money, \"dollars.\")"
   ]
  },
  {
   "cell_type": "code",
   "execution_count": 31,
   "metadata": {},
   "outputs": [
    {
     "name": "stdout",
     "output_type": "stream",
     "text": [
      "Welcome to Oregon Trail!\n",
      "A. Banker\n",
      "B. Carpenter\n",
      "C. Farmer\n",
      "What is your occupation? a\n",
      "Great! you will start the game with 100 dollars.\n"
     ]
    }
   ],
   "source": [
    "\n",
    "print(\"Welcome to Oregon Trail!\")\n",
    " \n",
    "print(\"A. Banker\")\n",
    "print(\"B. Carpenter\")\n",
    "print(\"C. Farmer\")\n",
    " \n",
    "user_input = input(\"What is your occupation? \")\n",
    "\n",
    "money = 100\n",
    " \n",
    "print(\"Great! you will start the game with\", money, \"dollars.\")"
   ]
  },
  {
   "cell_type": "code",
   "execution_count": null,
   "metadata": {},
   "outputs": [],
   "source": []
  },
  {
   "cell_type": "code",
   "execution_count": 36,
   "metadata": {},
   "outputs": [
    {
     "name": "stdout",
     "output_type": "stream",
     "text": [
      "Welcome to Oregon Trail!\n",
      "A. Banker\n",
      "B. Carpenter\n",
      "C. Farmer\n",
      "What is your occupation? a\n",
      "Great! you will start the game with 100 dollars.\n"
     ]
    }
   ],
   "source": [
    "\n",
    "print(\"Welcome to Oregon Trail!\")\n",
    " \n",
    "print(\"A. Banker\")\n",
    "print(\"B. Carpenter\")\n",
    "print(\"C. Farmer\")\n",
    " \n",
    "user_input = input(\"What is your occupation? \")\n",
    "\n",
    "if user_input == \"A\":\n",
    "    money = 200\n",
    "elif user_input == \"B\":\n",
    "    money = 70\n",
    "else\n",
    " \n",
    "print(\"Great! you will start the game with\", money, \"dollars.\")"
   ]
  },
  {
   "cell_type": "code",
   "execution_count": 37,
   "metadata": {},
   "outputs": [
    {
     "name": "stdout",
     "output_type": "stream",
     "text": [
      "Welcome to Oregon Trail!\n",
      "A. Banker\n",
      "B. Carpenter\n",
      "C. Farmer\n",
      "What is your occupation? A\n",
      "Great! you will start the game with 100 dollars.\n"
     ]
    }
   ],
   "source": [
    "print(\"Welcome to Oregon Trail!\")\n",
    " \n",
    "print(\"A. Banker\")\n",
    "print(\"B. Carpenter\")\n",
    "print(\"C. Farmer\")\n",
    " \n",
    "user_input = input(\"What is your occupation? \")\n",
    "\n",
    "money = 0 \n",
    "if user_input.upper() == \"A\":\n",
    "    money = 100\n",
    "elif user_input.upper() == \"B\":\n",
    "    money = 70\n",
    "else:\n",
    "    money = 50\n",
    " \n",
    "print(\"Great! you will start the game with\", money, \"dollars.\")"
   ]
  },
  {
   "cell_type": "code",
   "execution_count": 38,
   "metadata": {},
   "outputs": [
    {
     "name": "stdout",
     "output_type": "stream",
     "text": [
      "Welcome to Oregon Trail!\n",
      "A. Banker\n",
      "B. Carpenter\n",
      "C. Farmer\n",
      "What is your occupation? b\n",
      "Great! you will start the game with 70 dollars.\n"
     ]
    }
   ],
   "source": [
    "print(\"Welcome to Oregon Trail!\")\n",
    " \n",
    "print(\"A. Banker\")\n",
    "print(\"B. Carpenter\")\n",
    "print(\"C. Farmer\")\n",
    " \n",
    "user_input = input(\"What is your occupation? \")\n",
    "\n",
    "money = 0 \n",
    "if user_input.upper() == \"A\":\n",
    "    money = 100\n",
    "elif user_input.upper() == \"B\":\n",
    "    money = 70\n",
    "else:\n",
    "    money = 50\n",
    " \n",
    "print(\"Great! you will start the game with\", money, \"dollars.\")"
   ]
  },
  {
   "cell_type": "code",
   "execution_count": null,
   "metadata": {},
   "outputs": [],
   "source": []
  },
  {
   "cell_type": "code",
   "execution_count": 39,
   "metadata": {},
   "outputs": [
    {
     "name": "stdout",
     "output_type": "stream",
     "text": [
      "Welcome to Oregon Trail!\n",
      "A. Banker\n",
      "B. Carpenter\n",
      "C. Farmer\n",
      "What is your occupation? c\n",
      "Great! you will start the game with 50 dollars.\n"
     ]
    }
   ],
   "source": [
    "print(\"Welcome to Oregon Trail!\")\n",
    " \n",
    "print(\"A. Banker\")\n",
    "print(\"B. Carpenter\")\n",
    "print(\"C. Farmer\")\n",
    " \n",
    "user_input = input(\"What is your occupation? \")\n",
    "\n",
    "money = 0 \n",
    "if user_input.upper() == \"A\":\n",
    "    money = 100\n",
    "elif user_input.upper() == \"B\":\n",
    "    money = 70\n",
    "else:\n",
    "    money = 50\n",
    " \n",
    "print(\"Great! you will start the game with\", money, \"dollars.\")"
   ]
  },
  {
   "cell_type": "code",
   "execution_count": null,
   "metadata": {},
   "outputs": [],
   "source": []
  }
 ],
 "metadata": {
  "kernelspec": {
   "display_name": "Python 3",
   "language": "python",
   "name": "python3"
  },
  "language_info": {
   "codemirror_mode": {
    "name": "ipython",
    "version": 3
   },
   "file_extension": ".py",
   "mimetype": "text/x-python",
   "name": "python",
   "nbconvert_exporter": "python",
   "pygments_lexer": "ipython3",
   "version": "3.7.0"
  }
 },
 "nbformat": 4,
 "nbformat_minor": 2
}
