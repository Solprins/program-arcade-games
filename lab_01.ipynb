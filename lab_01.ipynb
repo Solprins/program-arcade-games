{
 "cells": [
  {
   "cell_type": "markdown",
   "metadata": {},
   "source": [
    "1.1 Part A\n",
    "\n",
    "Create a program that asks the user for a temperature in Fahrenheit, and then prints the temperature in Celsius. Search the Internet for the correct calculation. Look at Chapter 1 for the miles-per-gallon example to get an idea of what should be done. \n",
    "\n",
    "Sample run: \n",
    "\n",
    "Enter temperature in Fahrenheit: 32\n",
    "The temperature in Celsius: 0.0\n",
    " \n",
    "Sample run: \n",
    "\n",
    "Enter temperature in Fahrenheit: 72\n",
    "The temperature in Celsius: 22.2222222222\n",
    "\n",
    "The numbers from this program won't be formatted nicely. That is ok. But if it bothers you, look ahead to Chapter 20 and see how to make your output look great! \n",
    "\n",
    "Make sure to spell \"Celsius\" and \"Fahrenheit\" correctly. When printing an input prompt, use proper grammar and capitalization. Don't lose points for English."
   ]
  },
  {
   "cell_type": "code",
   "execution_count": 6,
   "metadata": {},
   "outputs": [
    {
     "name": "stdout",
     "output_type": "stream",
     "text": [
      "What is the temperature now in Fahrenheit? 32\n",
      "The temperature in Celsius is:  0.0\n",
      "What is the temperature now in Fahrenheit? 72\n",
      "The temperature in Celsius is:  22.224\n"
     ]
    }
   ],
   "source": [
    "# Program to convert temperature from Fahrenheit to Celsius\n",
    "# Take in data\n",
    "# Ask the user for the temperature in Fahrenheit\n",
    "temperature_fahrenheit = float(input(\"What is the temperature now in Fahrenheit? \"))\n",
    "\n",
    "# Perform calculations\n",
    "# Convert Fahrenheit to Celsius\n",
    "temperature_celcius = (temperature_fahrenheit - 32) * 0.5556\n",
    "\n",
    "# Output data\n",
    "# Print temperature in Celsius\n",
    "print(\"The temperature in Celsius is: \", temperature_celcius)\n",
    "\n",
    "# Take in data\n",
    "# Ask the user for the temperature in Fahrenheit\n",
    "temperature_fahrenheit = float(input(\"What is the temperature now in Fahrenheit? \"))\n",
    "\n",
    "# Perform calculations\n",
    "# Convert Fahrenheit to Celsius\n",
    "temperature_celcius = (temperature_fahrenheit - 32) * 0.5556\n",
    "\n",
    "# Output data\n",
    "# Print temperature in Celsius\n",
    "print(\"The temperature in Celsius is: \", temperature_celcius)"
   ]
  },
  {
   "cell_type": "markdown",
   "metadata": {},
   "source": [
    "1.2 Part B\n",
    "\n",
    "Create a new program that will ask the user for the information needed to find the area of a trapezoid, and then print the area. The formula for the area of a trapezoid is:\n",
    " A=\\dfrac{1}{2}(x_1+x_2)h\n",
    " \n",
    "Sample run: \n",
    "\n",
    "Area of a trapezoid\n",
    "Enter the height of the trapezoid: 5\n",
    "Enter the length of the bottom base: 10\n",
    "Enter the length of the top base: 7\n",
    "The area is: 42.5"
   ]
  },
  {
   "cell_type": "code",
   "execution_count": 8,
   "metadata": {},
   "outputs": [
    {
     "name": "stdout",
     "output_type": "stream",
     "text": [
      "This program will calculate the area of a trapezoid based on your input!\n",
      "Enter the height of the trapezoid: 5\n",
      "Enter the length of the bottom base: 10\n",
      "Enter the height of the top base: 7\n",
      "The area is: 42.5\n"
     ]
    }
   ],
   "source": [
    "# Program to calculate the area of a trapezoid\n",
    "# Take in data\n",
    "# Ask the user for the height, length of bottom base and length of top base\n",
    "print(\"This program will calculate the area of a trapezoid based on your input!\")\n",
    "height = int(input(\"Enter the height of the trapezoid: \"))\n",
    "bottom_base = int(input(\"Enter the length of the bottom base: \"))\n",
    "top_base = int(input(\"Enter the height of the top base: \"))\n",
    "\n",
    "# Perform calculations\n",
    "# Calculate the area of the trapezoid based on the user's input\n",
    "area = height * ((bottom_base + top_base) / 2)\n",
    "\n",
    "# Output data\n",
    "# Print the area of the trapezoid\n",
    "print(\"The area is:\", area)"
   ]
  },
  {
   "cell_type": "markdown",
   "metadata": {},
   "source": [
    "1.3 Part C\n",
    "\n",
    "Create your own original problem and have the user plug in the variables. If you are not in the mood for anything original, choose an equation from this list: \n",
    "\n",
    "Area of a circle  \n",
    "Area of an ellipse  \n",
    "Area of an equilateral triangle  \n",
    "Volume of a cone  \n",
    "Volume of a sphere  \n",
    "Area of an arbitrary triangle  \n",
    "\n",
    "When done, check to make certain your variable names begin with a lower case letter, and that you are using blank lines between logical groupings of the code. (Between input, calculations, and output in this case.) \n",
    "\n",
    "Then, turn in the assignment according to your teacher's instructions. If you are using a version control system, make sure to commit the files, and push them to the server. "
   ]
  },
  {
   "cell_type": "code",
   "execution_count": 1,
   "metadata": {},
   "outputs": [
    {
     "name": "stdout",
     "output_type": "stream",
     "text": [
      "What is the week number you want to report on? 10\n",
      "How many Jira issues did you work on in week 10 ?\n",
      "3\n",
      "Please write all the titles one by one of the Jira issues: POC test automation\n",
      "Please write all the titles one by one of the Jira issues: Penetration test server X\n",
      "Please write all the titles one by one of the Jira issues: Preparing PI Planning\n",
      "Please input how many hours you worked in week 10 on this Jira issue:  POC test automation\n",
      "10.5\n",
      "Please input how many hours you worked in week 10 on this Jira issue:  Penetration test server X\n",
      "14\n",
      "Please input how many hours you worked in week 10 on this Jira issue:  Preparing PI Planning\n",
      "18\n",
      "In week 10 you have worked  10.5 hours, on this Jira issue:  POC test automation\n",
      "In week 10 you have worked  14.0 hours, on this Jira issue:  Penetration test server X\n",
      "In week 10 you have worked  18.0 hours, on this Jira issue:  Preparing PI Planning\n",
      "In week 10 you have worked a total of 42.5 hours on all the Jira issues\n"
     ]
    }
   ],
   "source": [
    "# Program to make a weekly report of number of hours and total hours spent on Jira issues\n",
    "# Take in data\n",
    "# The user will be asked for the week number to be reported on\n",
    "week = int(input(\"What is the week number you want to report on? \"))\n",
    "# The user will be asked for the number of Jira issues\n",
    "print(\"How many Jira issues did you work on in week\", week,\"?\")\n",
    "number_jira_issues = int(input())\n",
    "jira_issues = [None for i in range(number_jira_issues) ] # define array jira_issues\n",
    "# The user will be asked for the names of the Jira issues\n",
    "for i in range(len(jira_issues)):\n",
    "    jira_issues[i] = input(str(\"Please write all the titles one by one of the Jira issues: \"))\n",
    "# The user will be asked for number of hours spent on each Jira issue\n",
    "hours_jira_issues = [None for i in range(1000) ]\n",
    "for i in range (len(jira_issues)):\n",
    "    print (\"Please input how many hours you worked in week\", week, \"on this Jira issue: \", jira_issues[i])\n",
    "    hours_jira_issues[i] = float(input())\n",
    "\n",
    "# Perform calculations\n",
    "# The program will calculate the total number of hours spent on all the Jira issues for the reported week\n",
    "total_hours = 0\n",
    "for i in range (len(jira_issues)):\n",
    "    total_hours += hours_jira_issues[i]\n",
    "\n",
    "# Output data\n",
    "# The program will print the number of hours spent on each Jira issue and a total for the week\n",
    "for i in range (len(jira_issues)):\n",
    "    print (\"In week\", week, \"you have worked \", hours_jira_issues[i], \"hours, on this Jira issue: \", jira_issues[i] )\n",
    "print (\"In week\", week, \"you have worked a total of\", total_hours, \"hours on all the Jira issues\")"
   ]
  },
  {
   "cell_type": "code",
   "execution_count": null,
   "metadata": {},
   "outputs": [],
   "source": []
  }
 ],
 "metadata": {
  "kernelspec": {
   "display_name": "Python 3",
   "language": "python",
   "name": "python3"
  },
  "language_info": {
   "codemirror_mode": {
    "name": "ipython",
    "version": 3
   },
   "file_extension": ".py",
   "mimetype": "text/x-python",
   "name": "python",
   "nbconvert_exporter": "python",
   "pygments_lexer": "ipython3",
   "version": "3.7.0"
  }
 },
 "nbformat": 4,
 "nbformat_minor": 2
}
