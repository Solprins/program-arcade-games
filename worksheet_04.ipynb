{
 "cells": [
  {
   "cell_type": "markdown",
   "metadata": {},
   "source": [
    "# Chapter 04 Worksheet\n",
    "\n",
    "Reminder: Please use full sentences, capital letters, and proper grammar where appropriate.\n",
    "\n",
    "Don't create a loop that only loops once. That doesn't make sense. Python runs the code once by default anyway. Avoid loops like this:\n",
    "\n",
    "for i in range(1):\n",
    "    # Do something.\n",
    "    \n",
    "1. Write a Python program that will use a for loop to print your name 10 times, and then the word ``Done'' at the end.\n",
    "\n",
    "2. Write a Python program that will use a for loop to print ``Red'' and then ``Gold'' 20 times. (Red Gold Red Gold Red Gold... all on separate lines. Don't use \\n.)\n",
    "\n",
    "3. Write a Python program that will use a for loop to print the even numbers from 2 to 100, inclusive.\n",
    "\n",
    "4. Write a Python program that will use a while loop to count from 10 down to, and including, 0. Then print the words ``Blast off!'' Remember, use a WHILE loop, don't use a FOR loop.\n",
    "\n",
    "5. There are three things wrong with this program. List each. (3 pts)\n",
    "print(\"This program takes three numbers and returns the sum.\")\n",
    "total = 0\n",
    " \n",
    "for i in range(3):\n",
    "    x = input(\"Enter a number: \")\n",
    "    total = total + i\n",
    "print(\"The total is:\", x)\n",
    "\n",
    "6. Write a program that prints a random integer from 1 to 10 (inclusive).\n",
    "\n",
    "7. Write a program that prints a random floating point number somewhere between 1 and 10 (inclusive). Do not make the mistake of generating a random number from 0 to 10 instead of 1 to 10.\n",
    "\n",
    "8. Write a Python program that will: (3 pts)\n",
    "Ask the user for seven numbers\n",
    "Print the total sum of the numbers\n",
    "Print the count of the positive entries, the number entries equal to zero, and the number of negative entries. Use an if, elif, else chain, not just three if statements.\n",
    "\n",
    "9. Coin flip tosser: (4 pts)\n",
    "Create a program that will print a random 0 or 1.\n",
    "Instead of 0 or 1, print heads or tails. Do this using if statements. Don't select from a list, as shown in the chapter.\n",
    "Add a loop so that the program does this 50 times.\n",
    "Create a running total for the number of heads flipped, and the number of tails.\n",
    "\n",
    "10. Write a program that plays rock, paper, scissors: (4 pts)\n",
    "Create a program that randomly prints 0, 1, or 2.\n",
    "Expand the program so it randomly prints rock, paper, or scissors using if statements. Don't select from a list, as shown in the chapter.\n",
    "Add to the program so it first asks the user their choice.\n",
    "(It will be easier if you have them enter 1, 2, or 3.)\n",
    "Add conditional statement to figure out who wins."
   ]
  },
  {
   "cell_type": "markdown",
   "metadata": {},
   "source": [
    "## 1. Write a Python program that will use a for loop to print your name 10 times, and then the word ``Done'' at the end.\n"
   ]
  },
  {
   "cell_type": "code",
   "execution_count": null,
   "metadata": {},
   "outputs": [],
   "source": [
    "# Input\n",
    "name = input(\"What is your name? \")\n",
    "print()\n",
    "# Loop - for\n",
    "for i in range (10):\n",
    "    print(name)\n",
    "# End\n",
    "print (\"Done\")"
   ]
  },
  {
   "cell_type": "markdown",
   "metadata": {},
   "source": [
    "## 2. Write a Python program that will use a for loop to print ``Red'' and then ``Gold'' 20 times. (Red Gold Red Gold Red Gold... all on separate lines. Don't use \\n.)"
   ]
  },
  {
   "cell_type": "code",
   "execution_count": null,
   "metadata": {},
   "outputs": [],
   "source": [
    "# Loop - for\n",
    "for i in range (20):\n",
    "    print (\"Red\")\n",
    "    print (\"Gold\")"
   ]
  },
  {
   "cell_type": "markdown",
   "metadata": {},
   "source": [
    "## 3. Write a Python program that will use a for loop to print the even numbers from 2 to 100, inclusive."
   ]
  },
  {
   "cell_type": "code",
   "execution_count": null,
   "metadata": {},
   "outputs": [],
   "source": [
    "# Loop - for\n",
    "for i in range (2, 101, 2):\n",
    "    print(i)"
   ]
  },
  {
   "cell_type": "markdown",
   "metadata": {},
   "source": [
    "## 4. Write a Python program that will use a while loop to count from 10 down to, and including, 0. Then print the words ``Blast off!'' Remember, use a WHILE loop, don't use a FOR loop."
   ]
  },
  {
   "cell_type": "code",
   "execution_count": null,
   "metadata": {},
   "outputs": [],
   "source": [
    "# Loop - while\n",
    "i = 10\n",
    "while i >= 0:\n",
    "    print(i)\n",
    "    i -= 1\n",
    "print (\"Blast off!\")"
   ]
  },
  {
   "cell_type": "markdown",
   "metadata": {},
   "source": [
    "## 5. There are three things wrong with this program. List each. (3 pts)\n",
    "\n",
    "print(\"This program takes three numbers and returns the sum.\")\n",
    "total = 0\n",
    " \n",
    "for i in range(3):\n",
    "    x = input(\"Enter a number: \")\n",
    "    total = total + i\n",
    "print(\"The total is:\", x)\n",
    "\n",
    "### Answer:\n",
    "1. The input should be wrapped by a float function\n",
    "2. The total should be adding x instead of i\n",
    "3. The last print should be printing total instead of x "
   ]
  },
  {
   "cell_type": "code",
   "execution_count": null,
   "metadata": {},
   "outputs": [],
   "source": [
    "# Correct code\n",
    "print(\"This program takes three numbers and returns the sum.\")\n",
    "total = 0\n",
    " \n",
    "for i in range(3):\n",
    "    x = float(input(\"Enter a number: \"))\n",
    "    total = total + x\n",
    "print(\"The total is:\", total)"
   ]
  },
  {
   "cell_type": "markdown",
   "metadata": {},
   "source": [
    "# 6. Write a program that prints a random integer from 1 to 10 (inclusive)."
   ]
  },
  {
   "cell_type": "code",
   "execution_count": null,
   "metadata": {},
   "outputs": [],
   "source": [
    "import random\n",
    "random_integer = random.randrange(1,11)\n",
    "print(random_integer)"
   ]
  },
  {
   "cell_type": "markdown",
   "metadata": {},
   "source": [
    "# 7. Write a program that prints a random floating point number somewhere between 1 and 10 (inclusive). Do not make the mistake of generating a random number from 0 to 10 instead of 1 to 10."
   ]
  },
  {
   "cell_type": "code",
   "execution_count": null,
   "metadata": {},
   "outputs": [],
   "source": [
    "import random\n",
    "random_float = random.random() * 10 + 1\n",
    "print(random_float)"
   ]
  },
  {
   "cell_type": "markdown",
   "metadata": {},
   "source": [
    "# 8. Write a Python program that will: (3 pts)\n",
    "Ask the user for seven numbers\n",
    "Print the total sum of the numbers\n",
    "\n",
    "Print the count of the positive entries, the number entries equal to zero, and the number of negative entries. Use an if, elif, else chain, not just three if statements."
   ]
  },
  {
   "cell_type": "code",
   "execution_count": null,
   "metadata": {},
   "outputs": [],
   "source": [
    "# Message to user\n",
    "print (\"You will be asked for seven numbers. At the end you will get the total sum of the numbers as well as\")\n",
    "print (\"a count of positive and negative entries and the number of zeros.\")\n",
    "\n",
    "\n",
    "# Define variables\n",
    "sum = 0\n",
    "positive = 0\n",
    "negative = 0\n",
    "zeros = 0\n",
    "\n",
    "# Loop - for\n",
    "for i in range(7):\n",
    "    number = float(input(\"Please give me a number: \"))\n",
    "    sum += number\n",
    "    if number > 0:\n",
    "        positive += 1\n",
    "    elif number < 0:\n",
    "        negative += 1\n",
    "    else:\n",
    "        zeros += 1\n",
    "\n",
    "# Output\n",
    "print(\"The total sum of the numbers is:\", sum)\n",
    "print(\"The number of positive entries is:\", positive)\n",
    "print(\"The number of negative entries is:\", negative)\n",
    "print(\"The number of zeros is:\", zeros)"
   ]
  },
  {
   "cell_type": "markdown",
   "metadata": {},
   "source": [
    "# 9. Coin flip tosser: (4 pts)\n",
    "Create a program that will print a random 0 or 1.\n",
    "Instead of 0 or 1, print heads or tails. Do this using if statements. Don't select from a list, as shown in the chapter.\n",
    "Add a loop so that the program does this 50 times.\n",
    "Create a running total for the number of heads flipped, and the number of tails."
   ]
  },
  {
   "cell_type": "code",
   "execution_count": null,
   "metadata": {},
   "outputs": [],
   "source": [
    "# Heads or Tails random 50 times\n",
    "import random\n",
    "\n",
    "# Loop - for\n",
    "for i in range (50):\n",
    "    coin = random.randrange (2)\n",
    "    if coin:\n",
    "        print (\"Heads\")\n",
    "    if not coin:\n",
    "        print (\"Tails\")"
   ]
  },
  {
   "cell_type": "markdown",
   "metadata": {},
   "source": [
    "# 10. Write a program that plays rock, paper, scissors: (4 pts)\n",
    "Create a program that randomly prints 0, 1, or 2.\n",
    "Expand the program so it randomly prints rock, paper, or scissors using if statements. Don't select from a list, as shown in the chapter.\n",
    "Add to the program so it first asks the user their choice.\n",
    "(It will be easier if you have them enter 1, 2, or 3.)\n",
    "Add conditional statement to figure out who wins."
   ]
  },
  {
   "cell_type": "code",
   "execution_count": 11,
   "metadata": {},
   "outputs": [
    {
     "name": "stdout",
     "output_type": "stream",
     "text": [
      "Welcome to a game of Rock, Paper, Scissors\n",
      "Please choose your play by typing in a number from this list:\n",
      "\n",
      "1. Rock\n",
      "2. Paper\n",
      "3. Scissors\n",
      "\n",
      "1\n",
      "You play Rock\n",
      "\n",
      "I play Rock\n",
      "\n",
      "We chose the same play - this is a tie!\n",
      "\n",
      "Thank you for playing!\n"
     ]
    }
   ],
   "source": [
    "import random\n",
    "# Instructions to the user\n",
    "# Input\n",
    "print (\"Welcome to a game of Rock, Paper, Scissors\")\n",
    "print (\"Please choose your play by typing in a number from this list:\")\n",
    "print()\n",
    "print (\"1. Rock\")\n",
    "print (\"2. Paper\")\n",
    "print (\"3. Scissors\")\n",
    "print()\n",
    "user = int(input())\n",
    "if user == 1:\n",
    "    print (\"You play Rock\")\n",
    "elif user == 2:\n",
    "    print (\"You play Paper\")\n",
    "else:\n",
    "    print (\"You play Scissors\")\n",
    "print()\n",
    "\n",
    "# The program picks a random play\n",
    "play = random.randrange (3)\n",
    "if play == 0:\n",
    "    print (\"I play Rock\")\n",
    "elif play == 1:\n",
    "    print (\"I play Paper\")\n",
    "else:\n",
    "    print (\"I play Scissors\")\n",
    "print()\n",
    "\n",
    "# Calculations: Calculate the winner\n",
    "play += 1\n",
    "if user == play:\n",
    "    print (\"We chose the same play - this is a tie!\")\n",
    "elif user == 1 and play == 2:\n",
    "    print (\"I won because Paper beats Rock!\")\n",
    "elif user == 1 and play == 3:\n",
    "    print (\"You won because Rock beats Scissors!\")\n",
    "elif user == 2 and play == 1:\n",
    "    print (\"You won because Paper beats Rock!\")\n",
    "elif user == 2 and play == 3:\n",
    "    print (\"I won because Scissors beats Paper\")\n",
    "elif user == 3 and play == 1:\n",
    "    print (\"I won because Rock beats Scissors!\")\n",
    "else:\n",
    "    print (\"You won because Scissors beats Paper!\")\n",
    "\n",
    "print()    \n",
    "print (\"Thank you for playing!\")"
   ]
  },
  {
   "cell_type": "code",
   "execution_count": null,
   "metadata": {},
   "outputs": [],
   "source": []
  }
 ],
 "metadata": {
  "kernelspec": {
   "display_name": "Python 3",
   "language": "python",
   "name": "python3"
  },
  "language_info": {
   "codemirror_mode": {
    "name": "ipython",
    "version": 3
   },
   "file_extension": ".py",
   "mimetype": "text/x-python",
   "name": "python",
   "nbconvert_exporter": "python",
   "pygments_lexer": "ipython3",
   "version": "3.7.0"
  }
 },
 "nbformat": 4,
 "nbformat_minor": 2
}
